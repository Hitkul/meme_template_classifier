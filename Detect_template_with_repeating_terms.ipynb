{
 "cells": [
  {
   "cell_type": "code",
   "execution_count": 28,
   "metadata": {},
   "outputs": [],
   "source": [
    "from nltk import word_tokenize\n",
    "from os import listdir "
   ]
  },
  {
   "cell_type": "code",
   "execution_count": 2,
   "metadata": {},
   "outputs": [],
   "source": [
    "def read_captions(file_name):\n",
    "    with open(file_name,'r') as f_pointer:\n",
    "        captions = f_pointer.readlines()\n",
    "    return captions"
   ]
  },
  {
   "cell_type": "code",
   "execution_count": 10,
   "metadata": {},
   "outputs": [],
   "source": [
    "def token_in_number_of_captions(token,captions_tokenize):\n",
    "    count_list = [True if token in caption else False  for caption in captions_tokenize]\n",
    "    return count_list.count(True)"
   ]
  },
  {
   "cell_type": "code",
   "execution_count": 34,
   "metadata": {},
   "outputs": [],
   "source": [
    "def does_class_has_uniqe_terms(captions_file_name):\n",
    "    captions = read_captions(f'data/captions/{captions_file_name}')\n",
    "    number_of_captions = len(captions)\n",
    "    captions = [i.replace(\"\\n\",\"\").lower() for i in captions]\n",
    "    captions_tokenize = [word_tokenize(i) for i in captions]\n",
    "    unique_tokens = set([j for i in captions_tokenize for j in i])\n",
    "    token_doc_count = {i:token_in_number_of_captions(i,captions_tokenize) for i in unique_tokens}\n",
    "    repeat_tokens = [key for key in token_doc_count.keys() if token_doc_count[key]>=number_of_captions*0.80]\n",
    "    if len(repeat_tokens)>0:\n",
    "        return True,repeat_tokens\n",
    "    return False,repeat_tokens"
   ]
  },
  {
   "cell_type": "code",
   "execution_count": 35,
   "metadata": {},
   "outputs": [],
   "source": [
    "list_of_files = listdir('data/captions/')"
   ]
  },
  {
   "cell_type": "code",
   "execution_count": 36,
   "metadata": {},
   "outputs": [],
   "source": [
    "results = [does_class_has_uniqe_terms(file)[0] for file in list_of_files]"
   ]
  },
  {
   "cell_type": "code",
   "execution_count": 38,
   "metadata": {},
   "outputs": [
    {
     "data": {
      "text/plain": [
       "101"
      ]
     },
     "execution_count": 38,
     "metadata": {},
     "output_type": "execute_result"
    }
   ],
   "source": [
    "results.count(True),results."
   ]
  },
  {
   "cell_type": "code",
   "execution_count": 67,
   "metadata": {},
   "outputs": [],
   "source": []
  },
  {
   "cell_type": "code",
   "execution_count": 68,
   "metadata": {},
   "outputs": [],
   "source": []
  },
  {
   "cell_type": "code",
   "execution_count": 69,
   "metadata": {},
   "outputs": [],
   "source": []
  },
  {
   "cell_type": "code",
   "execution_count": 70,
   "metadata": {},
   "outputs": [],
   "source": []
  },
  {
   "cell_type": "code",
   "execution_count": 72,
   "metadata": {},
   "outputs": [],
   "source": []
  },
  {
   "cell_type": "code",
   "execution_count": null,
   "metadata": {},
   "outputs": [],
   "source": []
  }
 ],
 "metadata": {
  "kernelspec": {
   "display_name": "Python (meme)",
   "language": "python",
   "name": "meme"
  },
  "language_info": {
   "codemirror_mode": {
    "name": "ipython",
    "version": 3
   },
   "file_extension": ".py",
   "mimetype": "text/x-python",
   "name": "python",
   "nbconvert_exporter": "python",
   "pygments_lexer": "ipython3",
   "version": "3.6.7"
  }
 },
 "nbformat": 4,
 "nbformat_minor": 2
}
